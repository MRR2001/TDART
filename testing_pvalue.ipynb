{
 "cells": [
  {
   "cell_type": "code",
   "execution_count": 9,
   "id": "146fb9d9-24fe-4854-8c2e-629d220bd4ec",
   "metadata": {},
   "outputs": [],
   "source": [
    "#import all necessary packages\n",
    "import numpy as np\n",
    "import gudhi as gd\n",
    "import itertools as it\n",
    "import gudhi.wasserstein as gw"
   ]
  },
  {
   "cell_type": "code",
   "execution_count": 15,
   "id": "fa2a9a24-c452-4dd4-8de9-c5297ba29b48",
   "metadata": {},
   "outputs": [
    {
     "name": "stdout",
     "output_type": "stream",
     "text": [
      "[[0, 12], [0.1, 12.1], [0.1, 11.9], [0, 12.1], [0.1, 12], [0.2, 12]] [[2.9, 4.1], [2.9, 4], [3, 3.9], [3, 4.1], [3.2, 4.2], [3, 4]]\n",
      "[[0, 12], [0.1, 12.1], [0.1, 11.9], [0, 12.1], [0.1, 12], [0.2, 12], [2.9, 4.1], [2.9, 4], [3, 3.9], [3, 4.1], [3.2, 4.2], [3, 4]]\n"
     ]
    }
   ],
   "source": [
    "#define dummy barcodes\n",
    "bars0 = []\n",
    "bars1 = []\n",
    "bars0.append([0,12])\n",
    "bars0.append([0.1,12.1])\n",
    "bars0.append([0.1,11.9])\n",
    "bars0.append([0,12.1])\n",
    "bars0.append([0.1,12])\n",
    "bars0.append([0.2,12])\n",
    "bars1.append([2.9,4.1])\n",
    "bars1.append([2.9,4])\n",
    "bars1.append([3,3.9])\n",
    "bars1.append([3,4.1])\n",
    "bars1.append([3.2,4.2])\n",
    "bars1.append([3,4])\n",
    "#bars.append([0,4])\n",
    "print(bars0,bars1)\n",
    "print(bars0+bars1)"
   ]
  },
  {
   "cell_type": "code",
   "execution_count": 13,
   "id": "67ba3dc6-8011-4902-ae65-0a16cf46da34",
   "metadata": {},
   "outputs": [],
   "source": [
    "#compute Bottleneck and Wasserstein distances\n",
    "#between two lists\n",
    "def comp_bott(list1,list2):\n",
    "    d = gd.bottleneck_distance(list1, list2)           \n",
    "    return d\n",
    "def comp_wass(list1,list2):\n",
    "    d = gw.wasserstein_distance(list1, list2, order=1)\n",
    "    return d"
   ]
  },
  {
   "cell_type": "code",
   "execution_count": null,
   "id": "2845a0a2-9053-489c-a0e5-55a7d823b1e9",
   "metadata": {},
   "outputs": [],
   "source": []
  },
  {
   "cell_type": "code",
   "execution_count": 48,
   "id": "c28df31f-1e8b-4985-a0c0-d91ca33dc979",
   "metadata": {},
   "outputs": [],
   "source": [
    "#permutation tests\n",
    "def perm_test(list1,list2,distance,n_perm):\n",
    "    if distance == \"bottleneck\":\n",
    "        observed = comp_bott(list1,list2)\n",
    "    elif distance == \"wasserstein\":\n",
    "        observed = comp_wass(list1,list2)\n",
    "    else: \n",
    "        print(\"Unknown distance\")\n",
    "        return 0;\n",
    "    print(\"observed\",observed)\n",
    "    tests = [observed]\n",
    "    for n_p in range(n_perm):\n",
    "        perm = np.random.permutation(np.array(list1+list2))\n",
    "        l1 = [i for i in perm[:len(list1)]]\n",
    "        l2 = [i for i in perm[len(list1):]]\n",
    "        tests.append(comp_bott(l1,l2))\n",
    "    print(\"tests:\", tests)\n",
    "    p_value = np.mean(np.array(tests) < observed)\n",
    "    return p_value\n",
    "        \n",
    "    "
   ]
  },
  {
   "cell_type": "code",
   "execution_count": 50,
   "id": "e333c7b4-4527-4f68-b916-321b008c491f",
   "metadata": {},
   "outputs": [
    {
     "name": "stdout",
     "output_type": "stream",
     "text": [
      "observed 6.049999999999999\n",
      "tests: [6.049999999999999, 5.9, 5.949999999999999, 5.949999999999999, 6.0, 5.949999999999999, 0.20000000000000018, 5.9, 0.20000000000000018, 0.20000000000000018, 0.20000000000000018, 6.0, 5.949999999999999, 5.9, 0.20000000000000018, 5.9, 5.949999999999999, 0.20000000000000018, 6.0, 0.20000000000000018, 5.949999999999999, 6.0, 5.9, 0.20000000000000018, 6.0, 6.0, 0.20000000000000018, 0.20000000000000018, 5.9, 0.20000000000000018, 6.0, 6.0, 5.949999999999999, 0.30000000000000027, 5.9, 5.949999999999999, 6.0, 0.20000000000000018, 5.949999999999999, 0.20000000000000018, 0.20000000000000018, 6.0, 6.0, 0.20000000000000018, 5.949999999999999, 0.20000000000000018, 0.20000000000000018, 5.9, 5.9, 5.949999999999999, 6.0]\n"
     ]
    },
    {
     "data": {
      "text/plain": [
       "0.9803921568627451"
      ]
     },
     "execution_count": 50,
     "metadata": {},
     "output_type": "execute_result"
    }
   ],
   "source": [
    "perm_test(bars0,bars1,\"bottleneck\",50)"
   ]
  },
  {
   "cell_type": "code",
   "execution_count": null,
   "id": "7b2f32fb-c15b-46d3-9af1-c0b52304e405",
   "metadata": {},
   "outputs": [],
   "source": []
  },
  {
   "cell_type": "code",
   "execution_count": null,
   "id": "85ab3e3c-db48-4f75-bd68-e71a7655e7b2",
   "metadata": {},
   "outputs": [],
   "source": []
  }
 ],
 "metadata": {
  "kernelspec": {
   "display_name": "Python 3 (ipykernel)",
   "language": "python",
   "name": "python3"
  },
  "language_info": {
   "codemirror_mode": {
    "name": "ipython",
    "version": 3
   },
   "file_extension": ".py",
   "mimetype": "text/x-python",
   "name": "python",
   "nbconvert_exporter": "python",
   "pygments_lexer": "ipython3",
   "version": "3.12.7"
  }
 },
 "nbformat": 4,
 "nbformat_minor": 5
}
